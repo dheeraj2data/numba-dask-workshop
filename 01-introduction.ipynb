{
 "cells": [
  {
   "cell_type": "markdown",
   "metadata": {},
   "source": [
    "# **Numba & Dask Workshop - Introduction**\n",
    "\n",
    "Numba is an open source JIT compiler that translates a subset of Python and NumPy code into fast machine code.\n",
    "\n",
    "Dask is a library which offers practical parallelism primitives to scale your computation logic\n",
    "\n",
    "Numba -> http://numba.pydata.org/\n",
    "\n",
    "Dask -> https://dask.org/\n",
    "\n",
    "### Is python slow? Why?\n",
    "\n",
    "- Global Interpreter Lock (no shared memory multi-threading)\n",
    "- No compiler optimizations (because its dynamically typed)"
   ]
  },
  {
   "cell_type": "markdown",
   "metadata": {},
   "source": [
    "### Lets look at two functions which could be slow in python \n",
    "\n",
    "- The first function computes $ y = \\sum_{i=1}^n {x_i^{2} + x_i^{3}} $\n",
    "\n",
    "- The second function computes $ y = \\sum_{i=1}^n {tan(x_i) + atan(x_i)} $"
   ]
  },
  {
   "cell_type": "code",
   "execution_count": 1,
   "metadata": {},
   "outputs": [
    {
     "name": "stdout",
     "output_type": "stream",
     "text": [
      "Wall time: 6.6 s\n"
     ]
    },
    {
     "data": {
      "text/plain": [
       "2499999833333308333335000000"
      ]
     },
     "execution_count": 1,
     "metadata": {},
     "output_type": "execute_result"
    }
   ],
   "source": [
    "def first_slow_function(n):\n",
    "    return sum((x ** 2 + x ** 3) for x in range(n ** 7))\n",
    "\n",
    "%time first_slow_function(10)"
   ]
  },
  {
   "cell_type": "code",
   "execution_count": null,
   "metadata": {},
   "outputs": [],
   "source": [
    "from math import tan, atan\n",
    "\n",
    "def second_slow_function(n):\n",
    "    return sum(tan(x) * atan(x) for x in range(n ** 7))\n",
    "\n",
    "%time second_slow_function(10)"
   ]
  },
  {
   "cell_type": "markdown",
   "metadata": {},
   "source": [
    "### What does Python's ecosystem offer?"
   ]
  },
  {
   "cell_type": "markdown",
   "metadata": {},
   "source": [
    "numpy\n",
    "=====\n",
    "\n",
    "### What exactly does numpy offer?\n",
    "\n",
    "- [A multidimensional, homogeneous array type, along with a type system for array elements (called \"dtypes\")](https://docs.scipy.org/doc/numpy/reference/generated/numpy.ndarray.html)\n",
    "- [Ufuncs with Broadcasting](https://docs.scipy.org/doc/numpy/user/basics.broadcasting.html)\n",
    "- Lots of prebuilt functions oriented towards scientific computing, including but not limited to\n",
    "    - [General Math](https://docs.scipy.org/doc/numpy/reference/routines.math.html)\n",
    "    - [Linear Algebra](https://docs.scipy.org/doc/numpy/reference/routines.linalg.html)\n",
    "    - [Statistics](https://docs.scipy.org/doc/numpy/reference/routines.statistics.html)\n",
    "\n",
    "![](./img/cint_vs_pyint.png)\n",
    "***\n",
    "![](./img/array_vs_list.png)"
   ]
  },
  {
   "cell_type": "markdown",
   "metadata": {},
   "source": [
    "### Import numpy and start creating numpy ndarrays. It's as simple as a python list"
   ]
  },
  {
   "cell_type": "code",
   "execution_count": null,
   "metadata": {},
   "outputs": [],
   "source": [
    "import numpy as np\n",
    "x = np.array([1, 2, 3])\n",
    "x.dtype"
   ]
  },
  {
   "cell_type": "markdown",
   "metadata": {},
   "source": [
    "### But do remember you can only create homogenous (same type) arrays**"
   ]
  },
  {
   "cell_type": "code",
   "execution_count": null,
   "metadata": {},
   "outputs": [],
   "source": [
    "y = np.array([1,2,3], dtype=np.float)\n",
    "y.dtype\n",
    "y"
   ]
  },
  {
   "cell_type": "markdown",
   "metadata": {},
   "source": [
    "### Lets try re-writing the slow functions we wrote earlier leveraging numpy"
   ]
  },
  {
   "cell_type": "code",
   "execution_count": null,
   "metadata": {},
   "outputs": [],
   "source": [
    "def func1(x):\n",
    "    return x ** 2 + x ** 3\n",
    "\n",
    "def first_slow_function_in_numpy(n):\n",
    "    vf = np.vectorize(func1)\n",
    "    return np.sum(vf(np.arange(n ** 7, dtype=np.float64)))\n",
    "\n",
    "%time first_slow_function_in_numpy(10)"
   ]
  },
  {
   "cell_type": "markdown",
   "metadata": {},
   "source": [
    "### NOTE: <i>np.vectorize</i> is a function which allows us to loop over a numpy array, sort of like map in python. \n",
    "### It's used for convenience and not for performance. We are doing this to avoid for-loops."
   ]
  },
  {
   "cell_type": "code",
   "execution_count": null,
   "metadata": {},
   "outputs": [],
   "source": [
    "from math import tan, atan\n",
    "\n",
    "def func2(x):\n",
    "    return tan(x) * atan(x)\n",
    "\n",
    "def second_slow_func_in_numpy(n):\n",
    "    vf = np.vectorize(func2)\n",
    "    return np.sum(vf(np.arange(n ** 7)))\n",
    "\n",
    "%time second_slow_func_in_numpy(10)"
   ]
  },
  {
   "cell_type": "code",
   "execution_count": null,
   "metadata": {},
   "outputs": [],
   "source": [
    "import numpy as np\n",
    "\n",
    "def func3(x):\n",
    "    return np.tan(x) * np.arctan(x)\n",
    "\n",
    "def third_slow_func_in_numpy(n):\n",
    "    vf = np.vectorize(func3)\n",
    "    # notice i am raising by 6 not 7 - numpy's tan and arctan are slow\n",
    "    return np.sum(vf(np.arange(n ** 6)))\n",
    "\n",
    "%time third_slow_func_in_numpy(10)"
   ]
  },
  {
   "cell_type": "markdown",
   "metadata": {},
   "source": [
    "### **You are restricted by the usecases for which numpy was designed**\n",
    "### **Can we do better?**"
   ]
  },
  {
   "cell_type": "markdown",
   "metadata": {},
   "source": [
    "# **Exercise**\n",
    "\n",
    "Try creating a slow CPU bound operation in python for yourself to test. This program should ideally have:\n",
    "\n",
    "- Loops\n",
    "- Floating point arithmetic\n",
    "\n",
    "You can try speeding up this function of yours in the next sections "
   ]
  }
 ],
 "metadata": {
  "kernelspec": {
   "display_name": "Python 3",
   "language": "python",
   "name": "python3"
  },
  "language_info": {
   "codemirror_mode": {
    "name": "ipython",
    "version": 3
   },
   "file_extension": ".py",
   "mimetype": "text/x-python",
   "name": "python",
   "nbconvert_exporter": "python",
   "pygments_lexer": "ipython3",
   "version": "3.7.3"
  }
 },
 "nbformat": 4,
 "nbformat_minor": 4
}
