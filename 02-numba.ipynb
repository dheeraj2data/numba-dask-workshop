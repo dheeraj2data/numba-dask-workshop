{
 "cells": [
  {
   "cell_type": "markdown",
   "metadata": {},
   "source": [
    "# **Numba**\n",
    "\n",
    "### Numba is a JIT Compiler and uses LLVM internally - No compilation required !\n",
    "\n",
    "![](./img/numba_flowchart.png)"
   ]
  },
  {
   "cell_type": "code",
   "execution_count": null,
   "metadata": {},
   "outputs": [],
   "source": [
    "import time\n",
    "\n",
    "def get_time_taken(func, *args):\n",
    "    res = func(*args)\n",
    "    start = time.time()\n",
    "    func(*args)\n",
    "    end = time.time()\n",
    "    time_taken = end - start\n",
    "    print(f\"Total time - {time_taken:.5f} seconds\")\n",
    "    print(res)"
   ]
  },
  {
   "cell_type": "code",
   "execution_count": null,
   "metadata": {},
   "outputs": [],
   "source": [
    "from numba import jit\n",
    "from math import tan, atan\n",
    "\n",
    "@jit\n",
    "def slow_function(n):\n",
    "    result = 0\n",
    "    for x in range(n ** 7):\n",
    "        result += tan(x) * atan(x)\n",
    "    return result\n",
    "\n",
    "get_time_taken(slow_function, 10)"
   ]
  },
  {
   "cell_type": "markdown",
   "metadata": {},
   "source": [
    "### The speed up is obvious but there are a lot of caveats\n",
    "\n",
    "### For example, any function used must also be \"decorated\""
   ]
  },
  {
   "cell_type": "code",
   "execution_count": null,
   "metadata": {},
   "outputs": [],
   "source": [
    "from numba import jit, int32\n",
    "\n",
    "@jit(int32(int32), nopython=True)\n",
    "def func(x):\n",
    "    return tan(x) * atan(x)\n",
    "\n",
    "@jit(int32(int32), nopython=True)\n",
    "def slow_function(n):\n",
    "    result = 0\n",
    "    for x in range(n ** 7):\n",
    "        result += func(x)\n",
    "    return result\n",
    "\n",
    "get_time_taken(slow_function, 10)"
   ]
  },
  {
   "cell_type": "markdown",
   "metadata": {},
   "source": [
    "### Notice the slight overhead "
   ]
  },
  {
   "cell_type": "code",
   "execution_count": null,
   "metadata": {},
   "outputs": [],
   "source": [
    "from numba import prange,jit, int32\n",
    "\n",
    "@jit(int32(int32), nopython=True, parallel=True)\n",
    "def slow_function(n):\n",
    "    result = 0\n",
    "    for x in prange(n ** 7):\n",
    "        result += tan(x) * atan(x)\n",
    "    return result\n",
    "\n",
    "get_time_taken(slow_function, 10)"
   ]
  },
  {
   "cell_type": "markdown",
   "metadata": {},
   "source": [
    "### prange is the parallel version of the range function in python and parallel=True option optimizes the code to use all the cores\n",
    "### Lets see how it works with Numpy"
   ]
  },
  {
   "cell_type": "code",
   "execution_count": null,
   "metadata": {},
   "outputs": [],
   "source": [
    "from numba import jit, int32\n",
    "import numpy as np\n",
    "\n",
    "@jit(int32(int32), nopython=True)\n",
    "def slow_func_in_numpy(n):\n",
    "    result = 0\n",
    "    for x in np.arange(n ** 7):\n",
    "        result += np.tan(x) * np.arctan(x)\n",
    "    return result\n",
    "\n",
    "get_time_taken(slow_func_in_numpy, 10)"
   ]
  },
  {
   "cell_type": "markdown",
   "metadata": {},
   "source": [
    "### Do I have to write functions for every type?"
   ]
  },
  {
   "cell_type": "code",
   "execution_count": null,
   "metadata": {},
   "outputs": [],
   "source": [
    "from numba import jit,  int32, int64, float32, float64\n",
    "from math import tan, atan\n",
    "\n",
    "@jit([int32(int32), int64(int64), float32(float32), float64(float64)])\n",
    "def slow_function(n):\n",
    "    result = 0\n",
    "    for x in range(n ** 7):\n",
    "        result += tan(x) * atan(x)\n",
    "    return result\n",
    "\n",
    "get_time_taken(slow_function, 10)\n",
    "get_time_taken(slow_function, 10.2)"
   ]
  },
  {
   "cell_type": "markdown",
   "metadata": {},
   "source": [
    "### Let's see how we can create numpy ufuncs using numba"
   ]
  },
  {
   "cell_type": "code",
   "execution_count": null,
   "metadata": {},
   "outputs": [],
   "source": [
    "from numba import vectorize, int32, int64, float32, float64\n",
    "import numpy as np\n",
    "\n",
    "@vectorize([int32(int32, int32),\n",
    "            int64(int64, int64),\n",
    "            float32(float32, float32),\n",
    "            float64(float64, float64)])\n",
    "def addfunc(x, y):\n",
    "    return x + y\n",
    "\n",
    "@vectorize\n",
    "def simpler_addfunc(x, y):\n",
    "    return x + y"
   ]
  },
  {
   "cell_type": "code",
   "execution_count": null,
   "metadata": {},
   "outputs": [],
   "source": [
    "addfunc(2, 3)"
   ]
  },
  {
   "cell_type": "code",
   "execution_count": null,
   "metadata": {},
   "outputs": [],
   "source": [
    "addfunc(6.42, 9.8)"
   ]
  },
  {
   "cell_type": "code",
   "execution_count": null,
   "metadata": {},
   "outputs": [],
   "source": [
    "simpler_addfunc(2, 3.4)"
   ]
  },
  {
   "cell_type": "code",
   "execution_count": null,
   "metadata": {},
   "outputs": [],
   "source": [
    "simpler_addfunc(np.array([1,2,3]), np.array([4,5,6]))"
   ]
  },
  {
   "cell_type": "markdown",
   "metadata": {},
   "source": [
    "### Limited support for classes"
   ]
  },
  {
   "cell_type": "code",
   "execution_count": null,
   "metadata": {},
   "outputs": [],
   "source": [
    "from numba import jitclass\n",
    "\n",
    "spec = [\n",
    "    ('x', int32),\n",
    "    ('y', int32)\n",
    "]\n",
    "\n",
    "@jitclass(spec)\n",
    "class Node(object):\n",
    "    def __init__(self, x, y):\n",
    "        self.x = x\n",
    "        self.y = y\n",
    "    \n",
    "    def distance(self, n):\n",
    "        return (self.x - n.x) ** 2 + (self.y - n.y) ** 2\n",
    "    \n",
    "    def distance_from_point(self, x, y):\n",
    "        return (self.x - x) ** 2 + (self.y - y) ** 2\n",
    "    \n",
    "n1 = Node(3,2)\n",
    "n2 = Node(9,6)"
   ]
  },
  {
   "cell_type": "code",
   "execution_count": null,
   "metadata": {},
   "outputs": [],
   "source": [
    "%time n1.distance(n2)"
   ]
  },
  {
   "cell_type": "code",
   "execution_count": null,
   "metadata": {},
   "outputs": [],
   "source": [
    "%time n1.distance_from_point(4,5)"
   ]
  },
  {
   "cell_type": "markdown",
   "metadata": {},
   "source": [
    "### This is just a glance into what numba can do, but remember, it does come with its own limitations\n",
    "\n",
    "Numba Limitations\n",
    "=================\n",
    "\n",
    "1. No Strings Support\n",
    "2. No support for exception handling (try .. except, try .. finally)\n",
    "3. No support for context management (the with statement)\n",
    "4. list comprehension is supported, but not dict, set or generator comprehensions\n",
    "5. No support for generator delegation (yield from)\n",
    "\n",
    "raise and assert are supported"
   ]
  },
  {
   "cell_type": "markdown",
   "metadata": {},
   "source": [
    "# **Exercise**\n",
    "\n",
    "Try using numba's @jit decorator with the function you wrote earlier and check with %time if there is any improvement in the performance\n",
    "\n",
    "**If you find any improvement, feel free to tweet about your experience with the handle @pyconfhyd**"
   ]
  }
 ],
 "metadata": {
  "file_extension": ".py",
  "kernelspec": {
   "display_name": "Python 3",
   "language": "python",
   "name": "python3"
  },
  "language_info": {
   "codemirror_mode": {
    "name": "ipython",
    "version": 3
   },
   "file_extension": ".py",
   "mimetype": "text/x-python",
   "name": "python",
   "nbconvert_exporter": "python",
   "pygments_lexer": "ipython3",
   "version": "3.7.3"
  },
  "mimetype": "text/x-python",
  "name": "python",
  "npconvert_exporter": "python",
  "pygments_lexer": "ipython3",
  "version": 3
 },
 "nbformat": 4,
 "nbformat_minor": 4
}
